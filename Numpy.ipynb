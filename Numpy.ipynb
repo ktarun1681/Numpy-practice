{
  "nbformat": 4,
  "nbformat_minor": 0,
  "metadata": {
    "colab": {
      "name": "Numpy.ipynb",
      "provenance": [],
      "authorship_tag": "ABX9TyOYeWX/so0dd3RGNIa9G6yK"
    },
    "kernelspec": {
      "name": "python3",
      "display_name": "Python 3"
    },
    "language_info": {
      "name": "python"
    }
  },
  "cells": [
    {
      "cell_type": "markdown",
      "source": [
        "NumPy stands for Numerical Python.\n",
        "\n",
        "Why do we use Numpy over normal list:\n",
        "\n",
        "1. Faster operations.\n",
        "2. It provides several mathematical operations.\n"
      ],
      "metadata": {
        "id": "LcvG06NCD4KD"
      }
    },
    {
      "cell_type": "code",
      "source": [
        "#importing the numpy library\n",
        "import numpy as np"
      ],
      "metadata": {
        "id": "dbq8bVcTEXRY"
      },
      "execution_count": 3,
      "outputs": []
    },
    {
      "cell_type": "markdown",
      "source": [
        "Time taken- Numpy vs lists"
      ],
      "metadata": {
        "id": "U9TswEXeE3fZ"
      }
    },
    {
      "cell_type": "code",
      "source": [
        "from time import process_time"
      ],
      "metadata": {
        "id": "qZGx6LNXEg-J"
      },
      "execution_count": 4,
      "outputs": []
    },
    {
      "cell_type": "code",
      "source": [
        "#time taken by list\n",
        "\n",
        "python_list = [i for i in range(10000)]\n",
        "\n",
        "start_time = process_time()\n",
        "\n",
        "python_list = [i+5 for i in python_list]\n",
        "\n",
        "end_time = process_time()\n",
        "\n",
        "print(end_time - start_time)"
      ],
      "metadata": {
        "colab": {
          "base_uri": "https://localhost:8080/"
        },
        "id": "NTChc8uWFOWB",
        "outputId": "52489e18-1387-45d6-8572-fe3fc838695b"
      },
      "execution_count": 8,
      "outputs": [
        {
          "output_type": "stream",
          "name": "stdout",
          "text": [
            "0.001318747000000009\n"
          ]
        }
      ]
    },
    {
      "cell_type": "code",
      "source": [
        "#time taken by numpy array\n",
        "\n",
        "np_array = np.array([i for i in range(10000)])\n",
        "\n",
        "start_time = process_time()\n",
        "\n",
        "# np_array = np_array + 5\n",
        "np_array += 5 \n",
        "\n",
        "end_time = process_time()\n",
        "\n",
        "print (end_time - start_time)\n"
      ],
      "metadata": {
        "colab": {
          "base_uri": "https://localhost:8080/"
        },
        "id": "5oOnJ77uGGrS",
        "outputId": "b3197bdd-9cd8-4002-85a5-1950bbf41c20"
      },
      "execution_count": 9,
      "outputs": [
        {
          "output_type": "stream",
          "name": "stdout",
          "text": [
            "0.0008968310000003754\n"
          ]
        }
      ]
    },
    {
      "cell_type": "code",
      "source": [
        "# list\n",
        "\n",
        "list = [1,2,3,4,5]\n",
        "type(list)"
      ],
      "metadata": {
        "colab": {
          "base_uri": "https://localhost:8080/"
        },
        "id": "LZe2bJhQHmwO",
        "outputId": "2c962d11-fd3f-4c22-be98-aaf84c84475d"
      },
      "execution_count": 10,
      "outputs": [
        {
          "output_type": "execute_result",
          "data": {
            "text/plain": [
              "list"
            ]
          },
          "metadata": {},
          "execution_count": 10
        }
      ]
    },
    {
      "cell_type": "code",
      "source": [
        "# numpy array\n",
        "\n",
        "numpy_array = np.array([1,2,3,4,5])\n",
        "type(numpy_array)"
      ],
      "metadata": {
        "colab": {
          "base_uri": "https://localhost:8080/"
        },
        "id": "FxMe-BPVNH0g",
        "outputId": "4fef6a06-60e0-48cc-be8e-afbc766091ac"
      },
      "execution_count": 11,
      "outputs": [
        {
          "output_type": "execute_result",
          "data": {
            "text/plain": [
              "numpy.ndarray"
            ]
          },
          "metadata": {},
          "execution_count": 11
        }
      ]
    },
    {
      "cell_type": "code",
      "source": [
        "#creating a 1D array\n",
        "\n",
        "a = np.array([1,2,3,4,5])\n",
        "print(a)"
      ],
      "metadata": {
        "colab": {
          "base_uri": "https://localhost:8080/"
        },
        "id": "Eb6W0p3rNXH8",
        "outputId": "0d71b1f9-eee1-417c-c344-745f1c57effe"
      },
      "execution_count": 12,
      "outputs": [
        {
          "output_type": "stream",
          "name": "stdout",
          "text": [
            "[1 2 3 4 5]\n"
          ]
        }
      ]
    },
    {
      "cell_type": "code",
      "source": [
        "a.shape"
      ],
      "metadata": {
        "colab": {
          "base_uri": "https://localhost:8080/"
        },
        "id": "vHE7LsngNlDL",
        "outputId": "1e2d6abb-3970-4590-d9aa-f6ff212ca163"
      },
      "execution_count": 13,
      "outputs": [
        {
          "output_type": "execute_result",
          "data": {
            "text/plain": [
              "(5,)"
            ]
          },
          "metadata": {},
          "execution_count": 13
        }
      ]
    },
    {
      "cell_type": "code",
      "source": [
        "# creating a 2D array\n",
        "\n",
        "a = np.array(([1,2,3,4,5], [2,3,4,5,6]))\n",
        "print(a)\n",
        "\n"
      ],
      "metadata": {
        "colab": {
          "base_uri": "https://localhost:8080/"
        },
        "id": "Bhc6bR3pNo18",
        "outputId": "8ca04ca2-4751-409f-a228-1a4a4c2b8b19"
      },
      "execution_count": 18,
      "outputs": [
        {
          "output_type": "stream",
          "name": "stdout",
          "text": [
            "[[1 2 3 4 5]\n",
            " [2 3 4 5 6]]\n"
          ]
        }
      ]
    },
    {
      "cell_type": "code",
      "source": [
        "y = np.ones((2, 3, 4))\n",
        "print(y)\n",
        "y.ndim"
      ],
      "metadata": {
        "colab": {
          "base_uri": "https://localhost:8080/"
        },
        "id": "2zTtVnt0cqV9",
        "outputId": "f9c0f960-a906-4f7f-ec94-8a814fdd34e8"
      },
      "execution_count": 62,
      "outputs": [
        {
          "output_type": "stream",
          "name": "stdout",
          "text": [
            "[[[1. 1. 1. 1.]\n",
            "  [1. 1. 1. 1.]\n",
            "  [1. 1. 1. 1.]]\n",
            "\n",
            " [[1. 1. 1. 1.]\n",
            "  [1. 1. 1. 1.]\n",
            "  [1. 1. 1. 1.]]]\n"
          ]
        },
        {
          "output_type": "execute_result",
          "data": {
            "text/plain": [
              "3"
            ]
          },
          "metadata": {},
          "execution_count": 62
        }
      ]
    },
    {
      "cell_type": "code",
      "source": [
        "a.shape"
      ],
      "metadata": {
        "colab": {
          "base_uri": "https://localhost:8080/"
        },
        "id": "c3QDxsltN9NM",
        "outputId": "358ae40e-d2ed-465c-ef71-34a81e7d4ceb"
      },
      "execution_count": 17,
      "outputs": [
        {
          "output_type": "execute_result",
          "data": {
            "text/plain": [
              "(2, 5)"
            ]
          },
          "metadata": {},
          "execution_count": 17
        }
      ]
    },
    {
      "cell_type": "code",
      "source": [
        "#intial placeholders in numpy array\n",
        "\n",
        "#creating an array of zeros of given shape\n",
        "\n",
        "x = np.zeros((5,5,6))\n",
        "print(x)\n",
        "print(x.ndim)\n",
        "print(x.shape)"
      ],
      "metadata": {
        "colab": {
          "base_uri": "https://localhost:8080/"
        },
        "id": "xu1nu5MtOaKF",
        "outputId": "e0508941-1073-407e-deb8-085215573904"
      },
      "execution_count": 66,
      "outputs": [
        {
          "output_type": "stream",
          "name": "stdout",
          "text": [
            "[[[0. 0. 0. 0. 0. 0.]\n",
            "  [0. 0. 0. 0. 0. 0.]\n",
            "  [0. 0. 0. 0. 0. 0.]\n",
            "  [0. 0. 0. 0. 0. 0.]\n",
            "  [0. 0. 0. 0. 0. 0.]]\n",
            "\n",
            " [[0. 0. 0. 0. 0. 0.]\n",
            "  [0. 0. 0. 0. 0. 0.]\n",
            "  [0. 0. 0. 0. 0. 0.]\n",
            "  [0. 0. 0. 0. 0. 0.]\n",
            "  [0. 0. 0. 0. 0. 0.]]\n",
            "\n",
            " [[0. 0. 0. 0. 0. 0.]\n",
            "  [0. 0. 0. 0. 0. 0.]\n",
            "  [0. 0. 0. 0. 0. 0.]\n",
            "  [0. 0. 0. 0. 0. 0.]\n",
            "  [0. 0. 0. 0. 0. 0.]]\n",
            "\n",
            " [[0. 0. 0. 0. 0. 0.]\n",
            "  [0. 0. 0. 0. 0. 0.]\n",
            "  [0. 0. 0. 0. 0. 0.]\n",
            "  [0. 0. 0. 0. 0. 0.]\n",
            "  [0. 0. 0. 0. 0. 0.]]\n",
            "\n",
            " [[0. 0. 0. 0. 0. 0.]\n",
            "  [0. 0. 0. 0. 0. 0.]\n",
            "  [0. 0. 0. 0. 0. 0.]\n",
            "  [0. 0. 0. 0. 0. 0.]\n",
            "  [0. 0. 0. 0. 0. 0.]]]\n",
            "3\n",
            "(5, 5, 6)\n"
          ]
        }
      ]
    },
    {
      "cell_type": "code",
      "source": [
        "x = np.zeros((5,7))\n",
        "print(x)"
      ],
      "metadata": {
        "colab": {
          "base_uri": "https://localhost:8080/"
        },
        "id": "2_QfUXrgP2Gf",
        "outputId": "ca1d2a55-fab4-456e-f37c-7554ef1fe597"
      },
      "execution_count": 21,
      "outputs": [
        {
          "output_type": "stream",
          "name": "stdout",
          "text": [
            "[[0. 0. 0. 0. 0. 0. 0.]\n",
            " [0. 0. 0. 0. 0. 0. 0.]\n",
            " [0. 0. 0. 0. 0. 0. 0.]\n",
            " [0. 0. 0. 0. 0. 0. 0.]\n",
            " [0. 0. 0. 0. 0. 0. 0.]]\n"
          ]
        }
      ]
    },
    {
      "cell_type": "code",
      "source": [
        "#creating an array of ones\n",
        "\n",
        "y = np.ones((5,7))\n",
        "print(y)"
      ],
      "metadata": {
        "colab": {
          "base_uri": "https://localhost:8080/"
        },
        "id": "TvJr2W6wP_EA",
        "outputId": "d50cdbd5-9737-43ee-f78d-6ac5629cbdb1"
      },
      "execution_count": 23,
      "outputs": [
        {
          "output_type": "stream",
          "name": "stdout",
          "text": [
            "[[1. 1. 1. 1. 1. 1. 1.]\n",
            " [1. 1. 1. 1. 1. 1. 1.]\n",
            " [1. 1. 1. 1. 1. 1. 1.]\n",
            " [1. 1. 1. 1. 1. 1. 1.]\n",
            " [1. 1. 1. 1. 1. 1. 1.]]\n"
          ]
        }
      ]
    },
    {
      "cell_type": "code",
      "source": [
        "#creating an identity matrix\n",
        "\n",
        "a = np.eye(5)\n",
        "print(a)"
      ],
      "metadata": {
        "colab": {
          "base_uri": "https://localhost:8080/"
        },
        "id": "JLlNFHI7QMmS",
        "outputId": "cf410093-5dbc-425a-bcff-81a6d219c59c"
      },
      "execution_count": 25,
      "outputs": [
        {
          "output_type": "stream",
          "name": "stdout",
          "text": [
            "[[1. 0. 0. 0. 0.]\n",
            " [0. 1. 0. 0. 0.]\n",
            " [0. 0. 1. 0. 0.]\n",
            " [0. 0. 0. 1. 0.]\n",
            " [0. 0. 0. 0. 1.]]\n"
          ]
        }
      ]
    },
    {
      "cell_type": "code",
      "source": [
        "#creating a numpy array of a particular value\n",
        "\n",
        "a = np.full((4,5),8)\n",
        "print(a)"
      ],
      "metadata": {
        "colab": {
          "base_uri": "https://localhost:8080/"
        },
        "id": "RYlFTaSJQpZ2",
        "outputId": "92732674-364e-42d2-c6f7-016c86c40530"
      },
      "execution_count": 28,
      "outputs": [
        {
          "output_type": "stream",
          "name": "stdout",
          "text": [
            "[[8 8 8 8 8]\n",
            " [8 8 8 8 8]\n",
            " [8 8 8 8 8]\n",
            " [8 8 8 8 8]]\n"
          ]
        }
      ]
    },
    {
      "cell_type": "code",
      "source": [
        "#creating a numpy array of random numbers\n",
        "\n",
        "a = np.random.random((4,5))\n",
        "print(a)"
      ],
      "metadata": {
        "colab": {
          "base_uri": "https://localhost:8080/"
        },
        "id": "BC8odQejQ4M8",
        "outputId": "71beadca-3ac7-4a6f-8f44-7e3914320806"
      },
      "execution_count": 29,
      "outputs": [
        {
          "output_type": "stream",
          "name": "stdout",
          "text": [
            "[[0.24902943 0.08473323 0.19013283 0.25572257 0.80746175]\n",
            " [0.46419679 0.05885397 0.29943838 0.10819706 0.18956278]\n",
            " [0.89448611 0.90431495 0.49982305 0.60269197 0.22964372]\n",
            " [0.57612019 0.83515111 0.15375823 0.17809676 0.54019237]]\n"
          ]
        }
      ]
    },
    {
      "cell_type": "code",
      "source": [
        "#creating a numpy array of some random integers\n",
        "c = np.random.randint(10,50,(4,5))\n",
        "print(c)"
      ],
      "metadata": {
        "colab": {
          "base_uri": "https://localhost:8080/"
        },
        "id": "tFb9lyfcRd7b",
        "outputId": "ca746fc8-c700-456d-af96-aafe985a4da3"
      },
      "execution_count": 30,
      "outputs": [
        {
          "output_type": "stream",
          "name": "stdout",
          "text": [
            "[[37 23 20 46 23]\n",
            " [44 36 34 10 49]\n",
            " [38 18 22 43 46]\n",
            " [41 48 18 15 32]]\n"
          ]
        }
      ]
    },
    {
      "cell_type": "code",
      "source": [
        "#array of evenly spaced values\n",
        "\n",
        "a = np.linspace(10,30,5)\n",
        "print(a) "
      ],
      "metadata": {
        "colab": {
          "base_uri": "https://localhost:8080/"
        },
        "id": "qVv9ui_rR7fJ",
        "outputId": "2497cba6-c417-4719-bba9-281ea23987a5"
      },
      "execution_count": 31,
      "outputs": [
        {
          "output_type": "stream",
          "name": "stdout",
          "text": [
            "[10. 15. 20. 25. 30.]\n"
          ]
        }
      ]
    },
    {
      "cell_type": "code",
      "source": [
        "b = np.linspace(12,20, 5)\n",
        "print(b)"
      ],
      "metadata": {
        "colab": {
          "base_uri": "https://localhost:8080/"
        },
        "id": "9DxqrvLCVzzq",
        "outputId": "d81761b1-3438-4c9b-b390-182d68253029"
      },
      "execution_count": 36,
      "outputs": [
        {
          "output_type": "stream",
          "name": "stdout",
          "text": [
            "[12. 14. 16. 18. 20.]\n"
          ]
        }
      ]
    },
    {
      "cell_type": "code",
      "source": [
        "c = np.linspace(10,50, 7)\n",
        "print(c)"
      ],
      "metadata": {
        "colab": {
          "base_uri": "https://localhost:8080/"
        },
        "id": "b3EUUfjmV6Q9",
        "outputId": "0396d4f2-2915-483e-ec24-5bc6a944b25f"
      },
      "execution_count": 37,
      "outputs": [
        {
          "output_type": "stream",
          "name": "stdout",
          "text": [
            "[10.         16.66666667 23.33333333 30.         36.66666667 43.33333333\n",
            " 50.        ]\n"
          ]
        }
      ]
    },
    {
      "cell_type": "code",
      "source": [
        "#creating an array of numbers at a particular step\n",
        "\n",
        "a = np.arange(10,30,5)\n",
        "\n",
        "print(a)"
      ],
      "metadata": {
        "colab": {
          "base_uri": "https://localhost:8080/"
        },
        "id": "87_sNhBCWsoS",
        "outputId": "6852f38a-77ff-4848-a2b7-28802d152d35"
      },
      "execution_count": 39,
      "outputs": [
        {
          "output_type": "stream",
          "name": "stdout",
          "text": [
            "[10 15 20 25]\n"
          ]
        }
      ]
    },
    {
      "cell_type": "code",
      "source": [
        "b = np.arange(10,30,6)\n",
        "print(b)"
      ],
      "metadata": {
        "colab": {
          "base_uri": "https://localhost:8080/"
        },
        "id": "y67Sl7S_XzWw",
        "outputId": "cb84ca82-96a1-43c1-ed04-eb859ba72fd4"
      },
      "execution_count": 40,
      "outputs": [
        {
          "output_type": "stream",
          "name": "stdout",
          "text": [
            "[10 16 22 28]\n"
          ]
        }
      ]
    },
    {
      "cell_type": "code",
      "source": [
        "#converting a list into an numpy array\n",
        "\n",
        "list2 = [2,3,4,5,6,7]\n",
        "\n",
        "array = np.asarray(list2)\n",
        "print(array)"
      ],
      "metadata": {
        "colab": {
          "base_uri": "https://localhost:8080/"
        },
        "id": "xuJbdfLHYDRf",
        "outputId": "07831dfe-3705-4a6b-84ae-19951019f77c"
      },
      "execution_count": 46,
      "outputs": [
        {
          "output_type": "stream",
          "name": "stdout",
          "text": [
            "[2 3 4 5 6 7]\n"
          ]
        }
      ]
    },
    {
      "cell_type": "code",
      "source": [
        "type(array)"
      ],
      "metadata": {
        "colab": {
          "base_uri": "https://localhost:8080/"
        },
        "id": "Waqp2jMsZZJf",
        "outputId": "97107c58-2534-44aa-c4ad-810fabd054c0"
      },
      "execution_count": 47,
      "outputs": [
        {
          "output_type": "execute_result",
          "data": {
            "text/plain": [
              "numpy.ndarray"
            ]
          },
          "metadata": {},
          "execution_count": 47
        }
      ]
    },
    {
      "cell_type": "code",
      "source": [
        "type(list2)"
      ],
      "metadata": {
        "colab": {
          "base_uri": "https://localhost:8080/"
        },
        "id": "yCYHF0o1Z17o",
        "outputId": "366d39b9-0b72-406b-c2d1-d82749781d56"
      },
      "execution_count": 48,
      "outputs": [
        {
          "output_type": "execute_result",
          "data": {
            "text/plain": [
              "list"
            ]
          },
          "metadata": {},
          "execution_count": 48
        }
      ]
    },
    {
      "cell_type": "code",
      "source": [
        "#analysing a numpy array\n",
        "\n",
        "a = np.random.randint(10,30,(5,6))\n",
        "print(a)"
      ],
      "metadata": {
        "colab": {
          "base_uri": "https://localhost:8080/"
        },
        "id": "HfG-VAN0Z7SL",
        "outputId": "9c73c638-d68d-4850-e774-84eb8fbaddf8"
      },
      "execution_count": 51,
      "outputs": [
        {
          "output_type": "stream",
          "name": "stdout",
          "text": [
            "[[18 24 23 18 21 26]\n",
            " [17 29 14 15 20 28]\n",
            " [19 20 21 23 27 15]\n",
            " [13 10 25 14 21 14]\n",
            " [21 16 20 16 10 15]]\n"
          ]
        }
      ]
    },
    {
      "cell_type": "code",
      "source": [
        "#checking the shape of a \n",
        "\n",
        "a.shape\n",
        "\n",
        "print(a.shape)"
      ],
      "metadata": {
        "colab": {
          "base_uri": "https://localhost:8080/"
        },
        "id": "M5s9OLouaXd_",
        "outputId": "d6bdb9ac-c131-440e-cbdc-d41733b1a5e9"
      },
      "execution_count": 53,
      "outputs": [
        {
          "output_type": "stream",
          "name": "stdout",
          "text": [
            "(5, 6)\n"
          ]
        }
      ]
    },
    {
      "cell_type": "code",
      "source": [
        "#checking the number of dimensions in a given array\n",
        "\n",
        "print(a.ndim)"
      ],
      "metadata": {
        "colab": {
          "base_uri": "https://localhost:8080/"
        },
        "id": "m-YAoJH_afx2",
        "outputId": "4822b76d-74e1-4d9e-86c3-9d10504a144e"
      },
      "execution_count": 54,
      "outputs": [
        {
          "output_type": "stream",
          "name": "stdout",
          "text": [
            "2\n"
          ]
        }
      ]
    },
    {
      "cell_type": "code",
      "source": [
        "a = np.array(([1,2,3],[3,4,5],[4,5,6]))\n",
        "print(a)"
      ],
      "metadata": {
        "colab": {
          "base_uri": "https://localhost:8080/"
        },
        "id": "lIyOvEPcaxIT",
        "outputId": "a0e80107-365f-42ed-9e49-c9e8538713ac"
      },
      "execution_count": 56,
      "outputs": [
        {
          "output_type": "stream",
          "name": "stdout",
          "text": [
            "[[1 2 3]\n",
            " [3 4 5]\n",
            " [4 5 6]]\n"
          ]
        }
      ]
    },
    {
      "cell_type": "code",
      "source": [
        "a.ndim"
      ],
      "metadata": {
        "colab": {
          "base_uri": "https://localhost:8080/"
        },
        "id": "_GKC80dMbdmi",
        "outputId": "e86b1404-930d-454c-cdbe-3af49636dadc"
      },
      "execution_count": 57,
      "outputs": [
        {
          "output_type": "execute_result",
          "data": {
            "text/plain": [
              "2"
            ]
          },
          "metadata": {},
          "execution_count": 57
        }
      ]
    },
    {
      "cell_type": "code",
      "source": [
        "a.size"
      ],
      "metadata": {
        "colab": {
          "base_uri": "https://localhost:8080/"
        },
        "id": "5hURBvRubj9s",
        "outputId": "9992318c-da8a-494b-f004-d5321de18fdf"
      },
      "execution_count": 67,
      "outputs": [
        {
          "output_type": "execute_result",
          "data": {
            "text/plain": [
              "9"
            ]
          },
          "metadata": {},
          "execution_count": 67
        }
      ]
    },
    {
      "cell_type": "code",
      "source": [
        "print(a.dtype)"
      ],
      "metadata": {
        "colab": {
          "base_uri": "https://localhost:8080/"
        },
        "id": "S929oo4lgCIL",
        "outputId": "7ea2fd98-80cc-47a5-f91f-a3308d69f534"
      },
      "execution_count": 69,
      "outputs": [
        {
          "output_type": "stream",
          "name": "stdout",
          "text": [
            "int64\n"
          ]
        }
      ]
    },
    {
      "cell_type": "markdown",
      "source": [
        "Mathematical operations in numpy array:\n"
      ],
      "metadata": {
        "id": "H5ahTJ_SgRi0"
      }
    },
    {
      "cell_type": "code",
      "source": [
        "a = np.random.randint(10,20,(4,5))\n",
        "b = np.random.randint(20,30,(4,5))\n",
        "print(a)\n",
        "print(b)"
      ],
      "metadata": {
        "colab": {
          "base_uri": "https://localhost:8080/"
        },
        "id": "25-wpY6wgIRY",
        "outputId": "859c026d-f2f0-4547-9451-d1015faeec34"
      },
      "execution_count": 71,
      "outputs": [
        {
          "output_type": "stream",
          "name": "stdout",
          "text": [
            "[[15 13 15 14 16]\n",
            " [10 12 15 10 18]\n",
            " [16 19 10 13 15]\n",
            " [15 19 19 17 14]]\n",
            "[[22 24 25 24 22]\n",
            " [23 29 20 24 28]\n",
            " [29 29 20 24 23]\n",
            " [21 21 20 20 29]]\n"
          ]
        }
      ]
    },
    {
      "cell_type": "code",
      "source": [
        "print(a+b)\n"
      ],
      "metadata": {
        "colab": {
          "base_uri": "https://localhost:8080/"
        },
        "id": "idViIU75getg",
        "outputId": "bee85790-99a9-4650-d2e5-8ac53d095b57"
      },
      "execution_count": 72,
      "outputs": [
        {
          "output_type": "stream",
          "name": "stdout",
          "text": [
            "[[37 37 40 38 38]\n",
            " [33 41 35 34 46]\n",
            " [45 48 30 37 38]\n",
            " [36 40 39 37 43]]\n"
          ]
        }
      ]
    },
    {
      "cell_type": "code",
      "source": [
        "print(a*b)"
      ],
      "metadata": {
        "colab": {
          "base_uri": "https://localhost:8080/"
        },
        "id": "OZIDqESZgu3w",
        "outputId": "20a1cf38-aff6-44fd-e3c7-eef640c46bfb"
      },
      "execution_count": 73,
      "outputs": [
        {
          "output_type": "stream",
          "name": "stdout",
          "text": [
            "[[330 312 375 336 352]\n",
            " [230 348 300 240 504]\n",
            " [464 551 200 312 345]\n",
            " [315 399 380 340 406]]\n"
          ]
        }
      ]
    },
    {
      "cell_type": "code",
      "source": [
        "print(a/b)"
      ],
      "metadata": {
        "colab": {
          "base_uri": "https://localhost:8080/"
        },
        "id": "LidK3WbFgyWJ",
        "outputId": "4133796b-aeb6-403b-c19e-9f82cb4d6e2a"
      },
      "execution_count": 74,
      "outputs": [
        {
          "output_type": "stream",
          "name": "stdout",
          "text": [
            "[[0.68181818 0.54166667 0.6        0.58333333 0.72727273]\n",
            " [0.43478261 0.4137931  0.75       0.41666667 0.64285714]\n",
            " [0.55172414 0.65517241 0.5        0.54166667 0.65217391]\n",
            " [0.71428571 0.9047619  0.95       0.85       0.48275862]]\n"
          ]
        }
      ]
    },
    {
      "cell_type": "code",
      "source": [
        "print(a-b)"
      ],
      "metadata": {
        "colab": {
          "base_uri": "https://localhost:8080/"
        },
        "id": "7qCqnAAkg1co",
        "outputId": "36d8f1a7-a035-4125-d2d1-61104019f4ed"
      },
      "execution_count": 75,
      "outputs": [
        {
          "output_type": "stream",
          "name": "stdout",
          "text": [
            "[[ -7 -11 -10 -10  -6]\n",
            " [-13 -17  -5 -14 -10]\n",
            " [-13 -10 -10 -11  -8]\n",
            " [ -6  -2  -1  -3 -15]]\n"
          ]
        }
      ]
    },
    {
      "cell_type": "code",
      "source": [
        "c = np.random.randint(5,10,(4,4))\n",
        "d = np.random.randint(10,15,(4,4))\n",
        "print(c)\n",
        "print(d)"
      ],
      "metadata": {
        "colab": {
          "base_uri": "https://localhost:8080/"
        },
        "id": "VQ6dwXs-g3MX",
        "outputId": "0eac0e7b-5796-4f7e-ecd7-fa441d316726"
      },
      "execution_count": 76,
      "outputs": [
        {
          "output_type": "stream",
          "name": "stdout",
          "text": [
            "[[7 5 8 5]\n",
            " [9 8 8 7]\n",
            " [8 9 9 5]\n",
            " [8 8 7 5]]\n",
            "[[10 12 14 13]\n",
            " [11 11 11 12]\n",
            " [14 11 11 14]\n",
            " [14 13 14 14]]\n"
          ]
        }
      ]
    },
    {
      "cell_type": "code",
      "source": [
        "print(np.add(c,d))\n"
      ],
      "metadata": {
        "colab": {
          "base_uri": "https://localhost:8080/"
        },
        "id": "oiJO91odhNRp",
        "outputId": "97ca22ca-dc95-4369-bb88-903a52dd8e75"
      },
      "execution_count": 77,
      "outputs": [
        {
          "output_type": "stream",
          "name": "stdout",
          "text": [
            "[[17 17 22 18]\n",
            " [20 19 19 19]\n",
            " [22 20 20 19]\n",
            " [22 21 21 19]]\n"
          ]
        }
      ]
    },
    {
      "cell_type": "code",
      "source": [
        "print(np.multiply(c,d))"
      ],
      "metadata": {
        "colab": {
          "base_uri": "https://localhost:8080/"
        },
        "id": "21KN_NBxhY0t",
        "outputId": "fc2e5eb3-03ab-4de3-d619-af2b19995029"
      },
      "execution_count": 78,
      "outputs": [
        {
          "output_type": "stream",
          "name": "stdout",
          "text": [
            "[[ 70  60 112  65]\n",
            " [ 99  88  88  84]\n",
            " [112  99  99  70]\n",
            " [112 104  98  70]]\n"
          ]
        }
      ]
    },
    {
      "cell_type": "code",
      "source": [
        "print(np.subtract(c,d))"
      ],
      "metadata": {
        "colab": {
          "base_uri": "https://localhost:8080/"
        },
        "id": "noRqQ_Cnhetq",
        "outputId": "db801215-478a-45fb-c7e8-d3cdc26fd2df"
      },
      "execution_count": 79,
      "outputs": [
        {
          "output_type": "stream",
          "name": "stdout",
          "text": [
            "[[-3 -7 -6 -8]\n",
            " [-2 -3 -3 -5]\n",
            " [-6 -2 -2 -9]\n",
            " [-6 -5 -7 -9]]\n"
          ]
        }
      ]
    },
    {
      "cell_type": "code",
      "source": [
        "print(np.divide(c,d))"
      ],
      "metadata": {
        "colab": {
          "base_uri": "https://localhost:8080/"
        },
        "id": "N5jPSMCPhiQY",
        "outputId": "83277dcf-2f20-447b-dd06-da5a4e58a340"
      },
      "execution_count": 80,
      "outputs": [
        {
          "output_type": "stream",
          "name": "stdout",
          "text": [
            "[[0.7        0.41666667 0.57142857 0.38461538]\n",
            " [0.81818182 0.72727273 0.72727273 0.58333333]\n",
            " [0.57142857 0.81818182 0.81818182 0.35714286]\n",
            " [0.57142857 0.61538462 0.5        0.35714286]]\n"
          ]
        }
      ]
    },
    {
      "cell_type": "code",
      "source": [
        "array = np.random.randint(10,20,(5,6))\n",
        "print(array)\n",
        "array.shape"
      ],
      "metadata": {
        "colab": {
          "base_uri": "https://localhost:8080/"
        },
        "id": "lr-W7mV4hk19",
        "outputId": "6daa83e8-62b5-4099-f300-4fdbc4cf5e87"
      },
      "execution_count": 84,
      "outputs": [
        {
          "output_type": "stream",
          "name": "stdout",
          "text": [
            "[[19 17 16 19 16 15]\n",
            " [12 13 16 13 17 14]\n",
            " [18 10 12 17 18 17]\n",
            " [12 19 19 17 13 10]\n",
            " [11 12 13 16 11 18]]\n"
          ]
        },
        {
          "output_type": "execute_result",
          "data": {
            "text/plain": [
              "(5, 6)"
            ]
          },
          "metadata": {},
          "execution_count": 84
        }
      ]
    },
    {
      "cell_type": "code",
      "source": [
        "trans = np.transpose(array)\n",
        "print(trans)\n",
        "trans.shape"
      ],
      "metadata": {
        "colab": {
          "base_uri": "https://localhost:8080/"
        },
        "id": "o9LAq78jh0JE",
        "outputId": "9b398862-e6ae-49ac-93c4-3fed32ed8cdd"
      },
      "execution_count": 85,
      "outputs": [
        {
          "output_type": "stream",
          "name": "stdout",
          "text": [
            "[[19 12 18 12 11]\n",
            " [17 13 10 19 12]\n",
            " [16 16 12 19 13]\n",
            " [19 13 17 17 16]\n",
            " [16 17 18 13 11]\n",
            " [15 14 17 10 18]]\n"
          ]
        },
        {
          "output_type": "execute_result",
          "data": {
            "text/plain": [
              "(6, 5)"
            ]
          },
          "metadata": {},
          "execution_count": 85
        }
      ]
    },
    {
      "cell_type": "code",
      "source": [
        "array1 = np.random.randint(20,50,(6,7))\n",
        "print(array1)"
      ],
      "metadata": {
        "colab": {
          "base_uri": "https://localhost:8080/"
        },
        "id": "XiOT58SNiDYr",
        "outputId": "70d4729e-f3e5-44ab-a470-2e90b044cad6"
      },
      "execution_count": 86,
      "outputs": [
        {
          "output_type": "stream",
          "name": "stdout",
          "text": [
            "[[30 37 34 33 30 32 39]\n",
            " [24 39 25 48 21 48 43]\n",
            " [30 42 29 48 26 33 46]\n",
            " [21 20 25 38 40 20 25]\n",
            " [24 30 34 41 38 32 29]\n",
            " [20 26 24 23 20 27 22]]\n"
          ]
        }
      ]
    },
    {
      "cell_type": "code",
      "source": [
        "array2 = array1.reshape(7,6)\n",
        "print(array2)"
      ],
      "metadata": {
        "colab": {
          "base_uri": "https://localhost:8080/"
        },
        "id": "L7VknOWGir_g",
        "outputId": "2ff58141-3f4e-4c5e-edee-da5e270b8537"
      },
      "execution_count": 88,
      "outputs": [
        {
          "output_type": "stream",
          "name": "stdout",
          "text": [
            "[[30 37 34 33 30 32]\n",
            " [39 24 39 25 48 21]\n",
            " [48 43 30 42 29 48]\n",
            " [26 33 46 21 20 25]\n",
            " [38 40 20 25 24 30]\n",
            " [34 41 38 32 29 20]\n",
            " [26 24 23 20 27 22]]\n"
          ]
        }
      ]
    },
    {
      "cell_type": "code",
      "source": [
        ""
      ],
      "metadata": {
        "id": "jIpOmIKgi4cx"
      },
      "execution_count": null,
      "outputs": []
    }
  ]
}